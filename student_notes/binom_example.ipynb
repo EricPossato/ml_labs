{
 "cells": [
  {
   "cell_type": "code",
   "execution_count": 1,
   "id": "b9800456",
   "metadata": {},
   "outputs": [],
   "source": [
    "from scipy.stats import binom"
   ]
  },
  {
   "cell_type": "code",
   "execution_count": 2,
   "id": "765cccf8",
   "metadata": {},
   "outputs": [],
   "source": [
    "k = 5000\n",
    "n = 10000\n",
    "p = 0.51"
   ]
  },
  {
   "cell_type": "code",
   "execution_count": 5,
   "id": "5bd17f4b",
   "metadata": {},
   "outputs": [
    {
     "name": "stdout",
     "output_type": "stream",
     "text": [
      "Probability of getting more than 5000 successes in 10000 trials with p=0.51: 0.976718\n"
     ]
    }
   ],
   "source": [
    "prob = 1 - binom.cdf(k, n, p)\n",
    "print(f\"Probability of getting more than {k} successes in {n} trials with p={p}: {prob:.6f}\")"
   ]
  },
  {
   "cell_type": "markdown",
   "id": "1ffa30b2",
   "metadata": {},
   "source": [
    "## A DEMOCRACIA FUNCIONA!!!\n",
    "\n",
    "### Desde que:\n",
    "\n",
    "- Muitos indivíduos\n",
    "- Indivíduos minimamente preparados (p > 0.5)\n",
    "- Indivíduos independentes"
   ]
  },
  {
   "cell_type": "markdown",
   "id": "41a12325",
   "metadata": {},
   "source": []
  }
 ],
 "metadata": {
  "kernelspec": {
   "display_name": "ml",
   "language": "python",
   "name": "python3"
  },
  "language_info": {
   "codemirror_mode": {
    "name": "ipython",
    "version": 3
   },
   "file_extension": ".py",
   "mimetype": "text/x-python",
   "name": "python",
   "nbconvert_exporter": "python",
   "pygments_lexer": "ipython3",
   "version": "3.12.9"
  }
 },
 "nbformat": 4,
 "nbformat_minor": 5
}
